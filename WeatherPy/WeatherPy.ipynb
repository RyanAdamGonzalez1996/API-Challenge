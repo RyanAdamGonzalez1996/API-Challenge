{
 "cells": [
  {
   "cell_type": "markdown",
   "metadata": {},
   "source": [
    "# WeatherPy\n",
    "----\n",
    "\n",
    "#### Note\n",
    "* Instructions have been included for each segment. You do not have to follow them exactly, but they are included to help you think through the steps."
   ]
  },
  {
   "cell_type": "code",
   "execution_count": 1,
   "metadata": {
    "scrolled": true
   },
   "outputs": [],
   "source": [
    "# Dependencies and Setup\n",
    "import matplotlib.pyplot as plt\n",
    "import pandas as pd\n",
    "import numpy as np\n",
    "import requests\n",
    "import time\n",
    "import scipy.stats as st\n",
    "from scipy.stats import linregress\n",
    "\n",
    "# Import API key\n",
    "from api_keys import weather_api_key\n",
    "\n",
    "# Incorporated citipy to determine city based on latitude and longitude\n",
    "from citipy import citipy\n",
    "\n",
    "# Output File (CSV)\n",
    "output_data_file = \"output_data/cities.csv\"\n",
    "\n",
    "# Range of latitudes and longitudes\n",
    "lat_range = (-90, 90)\n",
    "lng_range = (-180, 180)"
   ]
  },
  {
   "cell_type": "markdown",
   "metadata": {},
   "source": [
    "## Generate Cities List"
   ]
  },
  {
   "cell_type": "code",
   "execution_count": 2,
   "metadata": {},
   "outputs": [
    {
     "data": {
      "text/plain": [
       "591"
      ]
     },
     "execution_count": 2,
     "metadata": {},
     "output_type": "execute_result"
    }
   ],
   "source": [
    "# List for holding lat_lngs and cities\n",
    "lat_lngs = []\n",
    "cities = []\n",
    "\n",
    "# Create a set of random lat and lng combinations\n",
    "lats = np.random.uniform(lat_range[0], lat_range[1], size=1500)\n",
    "lngs = np.random.uniform(lng_range[0], lng_range[1], size=1500)\n",
    "lat_lngs = zip(lats, lngs)\n",
    "\n",
    "# Identify nearest city for each lat, lng combination\n",
    "for lat_lng in lat_lngs:\n",
    "    city = citipy.nearest_city(lat_lng[0], lat_lng[1]).city_name\n",
    "    \n",
    "    # If the city is unique, then add it to a our cities list\n",
    "    if city not in cities:\n",
    "        cities.append(city)\n",
    "\n",
    "# Print the city count to confirm sufficient count\n",
    "len(cities)"
   ]
  },
  {
   "cell_type": "markdown",
   "metadata": {},
   "source": [
    "## Perform API Calls\n",
    "* Perform a weather check on each city using a series of successive API calls.\n",
    "* Include a print log of each city as it'sbeing processed (with the city number and city name).\n"
   ]
  },
  {
   "cell_type": "code",
   "execution_count": 3,
   "metadata": {},
   "outputs": [],
   "source": [
    "#Declare Variables for future use\n",
    "city_name_list = []\n",
    "cloudiness_list = []\n",
    "country_list = []\n",
    "date_list = []\n",
    "humidity_list = []\n",
    "lat_list = []\n",
    "lng_list = []\n",
    "max_temp_list = []\n",
    "wind_speed_list = []\n",
    "iCount = 0\n",
    "setCount = 1"
   ]
  },
  {
   "cell_type": "code",
   "execution_count": 4,
   "metadata": {
    "scrolled": true
   },
   "outputs": [
    {
     "name": "stdout",
     "output_type": "stream",
     "text": [
      "Processing index: 1 Set: 1 : zaozerne\n",
      "Processing index: 2 Set: 1 : ushuaia\n",
      "Processing index: 3 Set: 1 : mar del plata\n",
      "Processing index: 4 Set: 1 : barrow\n",
      "Processing index: 5 Set: 1 : rikitea\n",
      "Processing index: 6 Set: 1 : thinadhoo\n",
      "Processing index: 7 Set: 1 : qaanaaq\n",
      "Processing index: 8 Set: 1 : victoria\n",
      "City not found\n",
      "Processing index: 9 Set: 1 : punta arenas\n",
      "Processing index: 10 Set: 1 : puerto ayora\n",
      "Processing index: 11 Set: 1 : coos bay\n",
      "Processing index: 12 Set: 1 : ocampo\n",
      "Processing index: 13 Set: 1 : khatanga\n",
      "Processing index: 14 Set: 1 : luanda\n",
      "Processing index: 15 Set: 1 : taldan\n",
      "Processing index: 16 Set: 1 : san giovanni in fiore\n",
      "Processing index: 17 Set: 1 : new norfolk\n",
      "Processing index: 18 Set: 1 : craigieburn\n",
      "Processing index: 19 Set: 1 : houma\n",
      "Processing index: 20 Set: 1 : nantucket\n",
      "Processing index: 21 Set: 1 : mataura\n",
      "Processing index: 22 Set: 1 : port alfred\n",
      "Processing index: 23 Set: 1 : calama\n",
      "City not found\n",
      "Processing index: 24 Set: 1 : albany\n",
      "Processing index: 25 Set: 1 : kulhudhuffushi\n",
      "Processing index: 26 Set: 1 : honiara\n",
      "Processing index: 27 Set: 1 : poum\n",
      "Processing index: 28 Set: 1 : mahebourg\n",
      "Processing index: 29 Set: 1 : tiksi\n",
      "Processing index: 30 Set: 1 : hobart\n",
      "City not found\n",
      "Processing index: 31 Set: 1 : zemio\n",
      "Processing index: 32 Set: 1 : salalah\n",
      "Processing index: 33 Set: 1 : bluff\n",
      "Processing index: 34 Set: 1 : busselton\n",
      "Processing index: 35 Set: 1 : tuatapere\n",
      "Processing index: 36 Set: 1 : hermanus\n",
      "Processing index: 37 Set: 1 : nikolskoye\n",
      "Processing index: 38 Set: 1 : chuy\n",
      "Processing index: 39 Set: 1 : noyabrsk\n",
      "Processing index: 40 Set: 1 : airai\n",
      "Processing index: 41 Set: 1 : pevek\n",
      "Processing index: 42 Set: 1 : atuona\n",
      "Processing index: 43 Set: 1 : yellowknife\n",
      "Processing index: 44 Set: 1 : petropavlovsk-kamchatskiy\n",
      "City not found\n",
      "Processing index: 45 Set: 1 : carnarvon\n",
      "Processing index: 46 Set: 1 : east london\n",
      "Processing index: 47 Set: 1 : bethel\n",
      "Processing index: 48 Set: 1 : vierzon\n",
      "Processing index: 49 Set: 1 : goderich\n",
      "Processing index: 50 Set: 1 : uryupinsk\n",
      "Processing index: 0 Set: 2 : touros\n",
      "City not found\n",
      "Processing index: 1 Set: 2 : hithadhoo\n",
      "Processing index: 2 Set: 2 : vaini\n",
      "Processing index: 3 Set: 2 : buchanan\n",
      "Processing index: 4 Set: 2 : omagh\n",
      "Processing index: 5 Set: 2 : coracora\n",
      "Processing index: 6 Set: 2 : porto velho\n",
      "Processing index: 7 Set: 2 : marawi\n",
      "Processing index: 8 Set: 2 : saint-philippe\n",
      "Processing index: 9 Set: 2 : nuqui\n",
      "Processing index: 10 Set: 2 : lagoa\n",
      "Processing index: 11 Set: 2 : odienne\n",
      "Processing index: 12 Set: 2 : cedar city\n",
      "City not found\n",
      "Processing index: 13 Set: 2 : jamestown\n",
      "Processing index: 14 Set: 2 : kununurra\n",
      "Processing index: 15 Set: 2 : upernavik\n",
      "Processing index: 16 Set: 2 : tutoia\n",
      "Processing index: 17 Set: 2 : maceio\n",
      "Processing index: 18 Set: 2 : chokurdakh\n",
      "Processing index: 19 Set: 2 : georgetown\n",
      "Processing index: 20 Set: 2 : chapayevka\n",
      "Processing index: 21 Set: 2 : constantine\n",
      "Processing index: 22 Set: 2 : kourou\n",
      "Processing index: 23 Set: 2 : alghero\n",
      "Processing index: 24 Set: 2 : chuguyevka\n",
      "Processing index: 25 Set: 2 : butaritari\n",
      "Processing index: 26 Set: 2 : tabuk\n",
      "Processing index: 27 Set: 2 : jalu\n",
      "Processing index: 28 Set: 2 : cervo\n",
      "Processing index: 29 Set: 2 : saldanha\n",
      "Processing index: 30 Set: 2 : darhan\n",
      "Processing index: 31 Set: 2 : khani\n",
      "Processing index: 32 Set: 2 : katsuura\n",
      "Processing index: 33 Set: 2 : kaeo\n",
      "Processing index: 34 Set: 2 : ancud\n",
      "Processing index: 35 Set: 2 : ponta delgada\n",
      "Processing index: 36 Set: 2 : kilindoni\n",
      "Processing index: 37 Set: 2 : arraial do cabo\n",
      "Processing index: 38 Set: 2 : atocha\n",
      "Processing index: 39 Set: 2 : bjornevatn\n",
      "Processing index: 40 Set: 2 : lebu\n",
      "Processing index: 41 Set: 2 : torbay\n",
      "Processing index: 42 Set: 2 : gizo\n",
      "Processing index: 43 Set: 2 : mana\n",
      "Processing index: 44 Set: 2 : arman\n",
      "Processing index: 45 Set: 2 : severo-kurilsk\n",
      "Processing index: 46 Set: 2 : kapaa\n",
      "Processing index: 47 Set: 2 : ahuimanu\n",
      "Processing index: 48 Set: 2 : songjianghe\n",
      "Processing index: 49 Set: 2 : dikson\n",
      "Processing index: 50 Set: 2 : hami\n",
      "Processing index: 0 Set: 3 : gat\n",
      "Processing index: 1 Set: 3 : nyurba\n",
      "Processing index: 2 Set: 3 : khotyn\n",
      "City not found\n",
      "Processing index: 3 Set: 3 : lazaro cardenas\n",
      "Processing index: 4 Set: 3 : atasu\n",
      "Processing index: 5 Set: 3 : lompoc\n",
      "Processing index: 6 Set: 3 : pacific grove\n",
      "Processing index: 7 Set: 3 : iqaluit\n",
      "Processing index: 8 Set: 3 : tuktoyaktuk\n",
      "Processing index: 9 Set: 3 : bredasdorp\n",
      "Processing index: 10 Set: 3 : cabedelo\n",
      "Processing index: 11 Set: 3 : calabozo\n",
      "Processing index: 12 Set: 3 : port lincoln\n",
      "Processing index: 13 Set: 3 : matadi\n",
      "Processing index: 14 Set: 3 : saint-leu\n",
      "Processing index: 15 Set: 3 : port keats\n",
      "Processing index: 16 Set: 3 : san patricio\n",
      "Processing index: 17 Set: 3 : constitucion\n",
      "Processing index: 18 Set: 3 : mayo\n",
      "Processing index: 19 Set: 3 : hay river\n",
      "Processing index: 20 Set: 3 : pisco\n",
      "Processing index: 21 Set: 3 : mount isa\n",
      "Processing index: 22 Set: 3 : camacha\n",
      "City not found\n",
      "Processing index: 23 Set: 3 : malakal\n",
      "City not found\n",
      "Processing index: 24 Set: 3 : andenes\n",
      "Processing index: 25 Set: 3 : korla\n",
      "Processing index: 26 Set: 3 : cape town\n",
      "Processing index: 27 Set: 3 : naze\n",
      "Processing index: 28 Set: 3 : inhambane\n",
      "Processing index: 29 Set: 3 : vestmannaeyjar\n",
      "Processing index: 30 Set: 3 : cidreira\n",
      "Processing index: 31 Set: 3 : baiyin\n",
      "Processing index: 32 Set: 3 : asosa\n",
      "Processing index: 33 Set: 3 : manzhouli\n",
      "Processing index: 34 Set: 3 : kaitangata\n",
      "Processing index: 35 Set: 3 : saint-pierre\n",
      "Processing index: 36 Set: 3 : lamar\n",
      "Processing index: 37 Set: 3 : walvis bay\n",
      "Processing index: 38 Set: 3 : umm lajj\n",
      "Processing index: 39 Set: 3 : ratnagiri\n",
      "Processing index: 40 Set: 3 : pangnirtung\n",
      "Processing index: 41 Set: 3 : sesimbra\n",
      "Processing index: 42 Set: 3 : dabat\n",
      "Processing index: 43 Set: 3 : te anau\n",
      "Processing index: 44 Set: 3 : tessalit\n",
      "City not found\n",
      "Processing index: 45 Set: 3 : yakeshi\n",
      "Processing index: 46 Set: 3 : vila franca do campo\n",
      "Processing index: 47 Set: 3 : bambous virieux\n",
      "Processing index: 48 Set: 3 : kodiak\n",
      "Processing index: 49 Set: 3 : kamsack\n",
      "Processing index: 50 Set: 3 : geraldton\n",
      "Processing index: 0 Set: 4 : kisarazu\n",
      "Processing index: 1 Set: 4 : balaipungut\n",
      "Processing index: 2 Set: 4 : esperance\n",
      "Processing index: 3 Set: 4 : sitka\n",
      "City not found\n",
      "Processing index: 4 Set: 4 : tasiilaq\n",
      "Processing index: 5 Set: 4 : flinders\n",
      "Processing index: 6 Set: 4 : ballina\n",
      "Processing index: 7 Set: 4 : norman wells\n",
      "Processing index: 8 Set: 4 : kumluca\n",
      "Processing index: 9 Set: 4 : dalvik\n",
      "Processing index: 10 Set: 4 : cockburn town\n",
      "Processing index: 11 Set: 4 : pandan\n",
      "Processing index: 12 Set: 4 : clyde river\n",
      "Processing index: 13 Set: 4 : bossangoa\n",
      "Processing index: 14 Set: 4 : luderitz\n",
      "Processing index: 15 Set: 4 : namibe\n",
      "Processing index: 16 Set: 4 : hasaki\n",
      "Processing index: 17 Set: 4 : thompson\n",
      "Processing index: 18 Set: 4 : devils lake\n",
      "Processing index: 19 Set: 4 : port elizabeth\n",
      "Processing index: 20 Set: 4 : taoudenni\n",
      "Processing index: 21 Set: 4 : puerto madryn\n",
      "Processing index: 22 Set: 4 : port hardy\n",
      "City not found\n",
      "Processing index: 23 Set: 4 : codrington\n",
      "Processing index: 24 Set: 4 : sur\n",
      "Processing index: 25 Set: 4 : bilma\n",
      "City not found\n",
      "Processing index: 26 Set: 4 : ucluelet\n",
      "Processing index: 27 Set: 4 : guanica\n",
      "Processing index: 28 Set: 4 : porto novo\n",
      "Processing index: 29 Set: 4 : bonavista\n",
      "Processing index: 30 Set: 4 : tucupita\n",
      "Processing index: 31 Set: 4 : komsomolskiy\n",
      "Processing index: 32 Set: 4 : yerbogachen\n",
      "Processing index: 33 Set: 4 : nguru\n",
      "Processing index: 34 Set: 4 : iracoubo\n",
      "Processing index: 35 Set: 4 : lavrentiya\n",
      "Processing index: 36 Set: 4 : quatre cocos\n",
      "Processing index: 37 Set: 4 : ribeira grande\n",
      "Processing index: 38 Set: 4 : saint george\n",
      "Processing index: 39 Set: 4 : grindavik\n",
      "Processing index: 40 Set: 4 : novosergiyevka\n",
      "Processing index: 41 Set: 4 : faanui\n",
      "Processing index: 42 Set: 4 : muscat\n",
      "Processing index: 43 Set: 4 : severo-yeniseyskiy\n",
      "City not found\n",
      "Processing index: 44 Set: 4 : avera\n",
      "Processing index: 45 Set: 4 : birsk\n",
      "City not found\n",
      "Processing index: 46 Set: 4 : kahului\n",
      "Processing index: 47 Set: 4 : avarua\n",
      "Processing index: 48 Set: 4 : hirado\n",
      "Processing index: 49 Set: 4 : belen\n",
      "Processing index: 50 Set: 4 : jumla\n",
      "Processing index: 0 Set: 5 : seguin\n"
     ]
    },
    {
     "name": "stdout",
     "output_type": "stream",
     "text": [
      "Processing index: 1 Set: 5 : mikhaylovka\n",
      "Processing index: 2 Set: 5 : ciudad bolivar\n",
      "Processing index: 3 Set: 5 : paamiut\n",
      "Processing index: 4 Set: 5 : arica\n",
      "Processing index: 5 Set: 5 : hilo\n",
      "Processing index: 6 Set: 5 : bathsheba\n",
      "Processing index: 7 Set: 5 : tokat\n",
      "City not found\n",
      "Processing index: 8 Set: 5 : asau\n",
      "Processing index: 9 Set: 5 : togur\n",
      "City not found\n",
      "Processing index: 10 Set: 5 : half moon bay\n",
      "Processing index: 11 Set: 5 : mweka\n",
      "Processing index: 12 Set: 5 : longyearbyen\n",
      "Processing index: 13 Set: 5 : alofi\n",
      "City not found\n",
      "Processing index: 14 Set: 5 : namatanai\n",
      "Processing index: 15 Set: 5 : joshimath\n",
      "Processing index: 16 Set: 5 : cherskiy\n",
      "Processing index: 17 Set: 5 : parker\n",
      "City not found\n",
      "Processing index: 18 Set: 5 : byron bay\n",
      "City not found\n",
      "Processing index: 19 Set: 5 : saint-augustin\n",
      "Processing index: 20 Set: 5 : bosaso\n",
      "Processing index: 21 Set: 5 : izmit\n",
      "Processing index: 22 Set: 5 : pinega\n",
      "Processing index: 23 Set: 5 : singaraja\n",
      "Processing index: 24 Set: 5 : mayumba\n",
      "Processing index: 25 Set: 5 : dhidhdhoo\n",
      "Processing index: 26 Set: 5 : templemore\n",
      "Processing index: 27 Set: 5 : buraydah\n",
      "Processing index: 28 Set: 5 : palu\n",
      "Processing index: 29 Set: 5 : tahe\n",
      "Processing index: 30 Set: 5 : puerto escondido\n",
      "Processing index: 31 Set: 5 : ampanihy\n",
      "Processing index: 32 Set: 5 : tama\n",
      "Processing index: 33 Set: 5 : san matias\n",
      "Processing index: 34 Set: 5 : xihe\n",
      "Processing index: 35 Set: 5 : dawei\n",
      "Processing index: 36 Set: 5 : jacareacanga\n",
      "Processing index: 37 Set: 5 : vardo\n",
      "Processing index: 38 Set: 5 : necochea\n",
      "Processing index: 39 Set: 5 : kavieng\n",
      "Processing index: 40 Set: 5 : bubaque\n",
      "Processing index: 41 Set: 5 : karratha\n",
      "Processing index: 42 Set: 5 : broken hill\n",
      "Processing index: 43 Set: 5 : vila velha\n",
      "Processing index: 44 Set: 5 : los llanos de aridane\n",
      "Processing index: 45 Set: 5 : katherine\n",
      "Processing index: 46 Set: 5 : waitati\n",
      "Processing index: 47 Set: 5 : bluefield\n",
      "Processing index: 48 Set: 5 : kefamenanu\n",
      "Processing index: 49 Set: 5 : saskylakh\n",
      "Processing index: 50 Set: 5 : coihaique\n",
      "Processing index: 0 Set: 6 : rostovka\n",
      "Processing index: 1 Set: 6 : alugan\n",
      "Processing index: 2 Set: 6 : narsaq\n",
      "Processing index: 3 Set: 6 : castro\n",
      "Processing index: 4 Set: 6 : olafsvik\n",
      "Processing index: 5 Set: 6 : tevriz\n",
      "City not found\n",
      "Processing index: 6 Set: 6 : praia da vitoria\n",
      "Processing index: 7 Set: 6 : kuybysheve\n",
      "Processing index: 8 Set: 6 : qostanay\n",
      "City not found\n",
      "Processing index: 9 Set: 6 : riyadh\n",
      "Processing index: 10 Set: 6 : gossaigaon\n",
      "Processing index: 11 Set: 6 : mecca\n",
      "Processing index: 12 Set: 6 : general roca\n",
      "Processing index: 13 Set: 6 : mehamn\n",
      "Processing index: 14 Set: 6 : ponta do sol\n",
      "Processing index: 15 Set: 6 : hamilton\n",
      "Processing index: 16 Set: 6 : sola\n",
      "Processing index: 17 Set: 6 : road town\n",
      "Processing index: 18 Set: 6 : north augusta\n",
      "Processing index: 19 Set: 6 : balaghat\n",
      "Processing index: 20 Set: 6 : lambarene\n",
      "Processing index: 21 Set: 6 : saint anthony\n",
      "Processing index: 22 Set: 6 : vao\n",
      "Processing index: 23 Set: 6 : kathu\n",
      "Processing index: 24 Set: 6 : talnakh\n",
      "Processing index: 25 Set: 6 : axim\n",
      "Processing index: 26 Set: 6 : kovdor\n",
      "City not found\n",
      "Processing index: 27 Set: 6 : baker city\n",
      "Processing index: 28 Set: 6 : kattivakkam\n",
      "City not found\n",
      "Processing index: 29 Set: 6 : sao filipe\n",
      "Processing index: 30 Set: 6 : portland\n",
      "Processing index: 31 Set: 6 : gigmoto\n",
      "Processing index: 32 Set: 6 : kruisfontein\n",
      "City not found\n",
      "Processing index: 33 Set: 6 : gorontalo\n",
      "Processing index: 34 Set: 6 : lorengau\n",
      "Processing index: 35 Set: 6 : san quintin\n",
      "Processing index: 36 Set: 6 : hambantota\n",
      "Processing index: 37 Set: 6 : plyussa\n",
      "Processing index: 38 Set: 6 : cabo san lucas\n",
      "Processing index: 39 Set: 6 : inta\n",
      "Processing index: 40 Set: 6 : port blair\n",
      "Processing index: 41 Set: 6 : nioro\n",
      "Processing index: 42 Set: 6 : santa marta\n",
      "Processing index: 43 Set: 6 : macklin\n",
      "Processing index: 44 Set: 6 : gornopravdinsk\n",
      "Processing index: 45 Set: 6 : aripuana\n",
      "Processing index: 46 Set: 6 : lodja\n",
      "Processing index: 47 Set: 6 : anajatuba\n",
      "City not found\n",
      "Processing index: 48 Set: 6 : marsabit\n",
      "Processing index: 49 Set: 6 : mandalgovi\n",
      "Processing index: 50 Set: 6 : bunia\n",
      "Processing index: 0 Set: 7 : sibolga\n",
      "Processing index: 1 Set: 7 : port-gentil\n",
      "Processing index: 2 Set: 7 : atar\n",
      "City not found\n",
      "City not found\n",
      "Processing index: 3 Set: 7 : guantanamo\n",
      "Processing index: 4 Set: 7 : san policarpo\n",
      "Processing index: 5 Set: 7 : pangody\n",
      "City not found\n",
      "Processing index: 6 Set: 7 : valleyview\n",
      "Processing index: 7 Set: 7 : kotka\n",
      "Processing index: 8 Set: 7 : caravelas\n",
      "Processing index: 9 Set: 7 : buala\n",
      "Processing index: 10 Set: 7 : pimentel\n",
      "Processing index: 11 Set: 7 : moree\n",
      "Processing index: 12 Set: 7 : kalmunai\n",
      "Processing index: 13 Set: 7 : puerto del rosario\n",
      "Processing index: 14 Set: 7 : prieska\n",
      "Processing index: 15 Set: 7 : aswan\n",
      "Processing index: 16 Set: 7 : labuan\n",
      "Processing index: 17 Set: 7 : taltal\n",
      "Processing index: 18 Set: 7 : acapulco\n",
      "Processing index: 19 Set: 7 : kushnarenkovo\n",
      "Processing index: 20 Set: 7 : cap malheureux\n",
      "Processing index: 21 Set: 7 : beira\n",
      "Processing index: 22 Set: 7 : veraval\n",
      "Processing index: 23 Set: 7 : nome\n",
      "Processing index: 24 Set: 7 : presidencia roque saenz pena\n",
      "Processing index: 25 Set: 7 : suez\n",
      "Processing index: 26 Set: 7 : san cristobal\n",
      "Processing index: 27 Set: 7 : tyukhtet\n",
      "Processing index: 28 Set: 7 : springbok\n",
      "Processing index: 29 Set: 7 : micheweni\n",
      "City not found\n",
      "Processing index: 30 Set: 7 : twentynine palms\n",
      "City not found\n",
      "Processing index: 31 Set: 7 : klaksvik\n",
      "Processing index: 32 Set: 7 : klyuchevskiy\n",
      "Processing index: 33 Set: 7 : vung tau\n",
      "Processing index: 34 Set: 7 : samarai\n",
      "Processing index: 35 Set: 7 : ixtapa\n",
      "Processing index: 36 Set: 7 : qasigiannguit\n",
      "Processing index: 37 Set: 7 : okhotsk\n",
      "Processing index: 38 Set: 7 : provideniya\n",
      "Processing index: 39 Set: 7 : lang son\n",
      "Processing index: 40 Set: 7 : vila do maio\n",
      "Processing index: 41 Set: 7 : bundaberg\n",
      "Processing index: 42 Set: 7 : kuah\n",
      "Processing index: 43 Set: 7 : santa isabel\n",
      "Processing index: 44 Set: 7 : sfantu gheorghe\n",
      "Processing index: 45 Set: 7 : minot\n",
      "City not found\n",
      "Processing index: 46 Set: 7 : kysyl-syr\n",
      "City not found\n",
      "Processing index: 47 Set: 7 : phalaborwa\n",
      "Processing index: 48 Set: 7 : ilulissat\n",
      "Processing index: 49 Set: 7 : uruguaiana\n",
      "Processing index: 50 Set: 7 : grand gaube\n",
      "Processing index: 0 Set: 8 : monze\n",
      "Processing index: 1 Set: 8 : choctaw\n",
      "Processing index: 2 Set: 8 : mogadishu\n",
      "Processing index: 3 Set: 8 : mujiayingzi\n",
      "Processing index: 4 Set: 8 : rovaniemi\n",
      "City not found\n",
      "Processing index: 5 Set: 8 : dudinka\n",
      "Processing index: 6 Set: 8 : bugalagrande\n",
      "Processing index: 7 Set: 8 : meulaboh\n",
      "Processing index: 8 Set: 8 : coracao de jesus\n",
      "Processing index: 9 Set: 8 : scarborough\n",
      "Processing index: 10 Set: 8 : havelock\n",
      "Processing index: 11 Set: 8 : fairview\n",
      "Processing index: 12 Set: 8 : jaisalmer\n",
      "Processing index: 13 Set: 8 : coldstream\n",
      "Processing index: 14 Set: 8 : griffith\n",
      "Processing index: 15 Set: 8 : poronaysk\n",
      "Processing index: 16 Set: 8 : chute-aux-outardes\n",
      "Processing index: 17 Set: 8 : sao miguel do tapuio\n",
      "Processing index: 18 Set: 8 : sembakung\n",
      "Processing index: 19 Set: 8 : dunedin\n",
      "Processing index: 20 Set: 8 : zainsk\n",
      "Processing index: 21 Set: 8 : alice springs\n",
      "Processing index: 22 Set: 8 : andrews\n",
      "Processing index: 23 Set: 8 : coquimbo\n",
      "Processing index: 24 Set: 8 : coahuayana\n",
      "Processing index: 25 Set: 8 : harwich\n",
      "Processing index: 26 Set: 8 : haines junction\n",
      "Processing index: 27 Set: 8 : sabang\n",
      "Processing index: 28 Set: 8 : iringa\n",
      "Processing index: 29 Set: 8 : chapadinha\n",
      "Processing index: 30 Set: 8 : laguna\n",
      "Processing index: 31 Set: 8 : konskie\n",
      "Processing index: 32 Set: 8 : saint-joseph\n",
      "Processing index: 33 Set: 8 : bengkulu\n",
      "Processing index: 34 Set: 8 : iralaya\n",
      "Processing index: 35 Set: 8 : chartres\n",
      "Processing index: 36 Set: 8 : wajima\n",
      "Processing index: 37 Set: 8 : el dorado\n",
      "Processing index: 38 Set: 8 : okha\n",
      "Processing index: 39 Set: 8 : gazli\n",
      "Processing index: 40 Set: 8 : bobcaygeon\n",
      "Processing index: 41 Set: 8 : souillac\n",
      "Processing index: 42 Set: 8 : northam\n",
      "Processing index: 43 Set: 8 : bud\n",
      "Processing index: 44 Set: 8 : vagur\n",
      "Processing index: 45 Set: 8 : miramar\n",
      "Processing index: 46 Set: 8 : katangli\n",
      "Processing index: 47 Set: 8 : sambava\n",
      "Processing index: 48 Set: 8 : chemin grenier\n",
      "Processing index: 49 Set: 8 : chapais\n",
      "Processing index: 50 Set: 8 : loreto\n"
     ]
    },
    {
     "name": "stdout",
     "output_type": "stream",
     "text": [
      "Processing index: 0 Set: 9 : qaqortoq\n",
      "Processing index: 1 Set: 9 : takoradi\n",
      "Processing index: 2 Set: 9 : kamenka\n",
      "City not found\n",
      "Processing index: 3 Set: 9 : kudahuvadhoo\n",
      "City not found\n",
      "Processing index: 4 Set: 9 : rawson\n",
      "Processing index: 5 Set: 9 : almaznyy\n",
      "City not found\n",
      "Processing index: 6 Set: 9 : grand-santi\n",
      "Processing index: 7 Set: 9 : moshi\n",
      "Processing index: 8 Set: 9 : venice\n",
      "Processing index: 9 Set: 9 : waw\n",
      "Processing index: 10 Set: 9 : iskateley\n",
      "Processing index: 11 Set: 9 : san juan de aznalfarache\n",
      "Processing index: 12 Set: 9 : kindia\n",
      "Processing index: 13 Set: 9 : joensuu\n",
      "Processing index: 14 Set: 9 : yavaros\n",
      "Processing index: 15 Set: 9 : san ignacio\n",
      "Processing index: 16 Set: 9 : santiago de cuba\n",
      "Processing index: 17 Set: 9 : samara\n",
      "Processing index: 18 Set: 9 : jutai\n",
      "Processing index: 19 Set: 9 : san martin\n",
      "Processing index: 20 Set: 9 : smithers\n",
      "City not found\n",
      "Processing index: 21 Set: 9 : kilcullen\n",
      "Processing index: 22 Set: 9 : natal\n",
      "Processing index: 23 Set: 9 : talcahuano\n",
      "Processing index: 24 Set: 9 : egvekinot\n",
      "Processing index: 25 Set: 9 : lalmohan\n",
      "Processing index: 26 Set: 9 : virginia beach\n",
      "Processing index: 27 Set: 9 : novomykolayivka\n",
      "Processing index: 28 Set: 9 : pasan\n",
      "Processing index: 29 Set: 9 : kljuc\n",
      "Processing index: 30 Set: 9 : ahipara\n",
      "Processing index: 31 Set: 9 : patiya\n",
      "Processing index: 32 Set: 9 : nanortalik\n",
      "Processing index: 33 Set: 9 : zhigansk\n",
      "Processing index: 34 Set: 9 : bestobe\n",
      "City not found\n",
      "Processing index: 35 Set: 9 : srednekolymsk\n",
      "Processing index: 36 Set: 9 : olinda\n",
      "City not found\n",
      "Processing index: 37 Set: 9 : pauini\n",
      "City not found\n",
      "Processing index: 38 Set: 9 : vestmanna\n",
      "Processing index: 39 Set: 9 : chicama\n",
      "Processing index: 40 Set: 9 : batagay-alyta\n",
      "Processing index: 41 Set: 9 : shetpe\n",
      "Processing index: 42 Set: 9 : quang ngai\n",
      "Processing index: 43 Set: 9 : nhulunbuy\n",
      "Processing index: 44 Set: 9 : bikaner\n",
      "Processing index: 45 Set: 9 : ust-uda\n",
      "Processing index: 46 Set: 9 : jibuti\n",
      "Processing index: 47 Set: 9 : taree\n",
      "City not found\n",
      "Processing index: 48 Set: 9 : batie\n",
      "Processing index: 49 Set: 9 : preobrazheniye\n",
      "Processing index: 50 Set: 9 : spearfish\n",
      "Processing index: 0 Set: 10 : nouadhibou\n",
      "Processing index: 1 Set: 10 : semnan\n",
      "Processing index: 2 Set: 10 : lock haven\n",
      "City not found\n",
      "Processing index: 3 Set: 10 : puerto quijarro\n",
      "Processing index: 4 Set: 10 : diu\n",
      "Processing index: 5 Set: 10 : roald\n",
      "Processing index: 6 Set: 10 : west bay\n",
      "Processing index: 7 Set: 10 : sept-iles\n",
      "Processing index: 8 Set: 10 : cunha\n",
      "Processing index: 9 Set: 10 : leningradskiy\n",
      "Processing index: 10 Set: 10 : nuuk\n",
      "Processing index: 11 Set: 10 : sunndalsora\n",
      "Processing index: 12 Set: 10 : kindu\n",
      "Processing index: 13 Set: 10 : nijar\n",
      "Processing index: 14 Set: 10 : kidal\n",
      "Processing index: 15 Set: 10 : okitipupa\n",
      "Processing index: 16 Set: 10 : cankuzo\n",
      "Processing index: 17 Set: 10 : vila\n",
      "Processing index: 18 Set: 10 : juneau\n",
      "Processing index: 19 Set: 10 : engels\n",
      "Processing index: 20 Set: 10 : aklavik\n",
      "Processing index: 21 Set: 10 : bria\n",
      "Processing index: 22 Set: 10 : lata\n",
      "Processing index: 23 Set: 10 : puerto baquerizo moreno\n",
      "Processing index: 24 Set: 10 : khor\n",
      "Processing index: 25 Set: 10 : ohangaron\n",
      "Processing index: 26 Set: 10 : kinloss\n",
      "Processing index: 27 Set: 10 : pindiga\n",
      "Processing index: 28 Set: 10 : solnechnyy\n",
      "Processing index: 29 Set: 10 : genhe\n",
      "City not found\n",
      "Processing index: 30 Set: 10 : kulim\n",
      "Processing index: 31 Set: 10 : libertador general san martin\n",
      "Processing index: 32 Set: 10 : cartagena\n",
      "Processing index: 33 Set: 10 : fort nelson\n",
      "Processing index: 34 Set: 10 : vinh\n",
      "Processing index: 35 Set: 10 : guerrero negro\n",
      "Processing index: 36 Set: 10 : matay\n",
      "Processing index: 37 Set: 10 : ambon\n",
      "Processing index: 38 Set: 10 : padang\n",
      "City not found\n",
      "Processing index: 39 Set: 10 : vilhena\n",
      "Processing index: 40 Set: 10 : weiser\n",
      "Processing index: 41 Set: 10 : wencheng\n",
      "Processing index: 42 Set: 10 : japura\n",
      "Processing index: 43 Set: 10 : robertson\n",
      "Processing index: 44 Set: 10 : kailua\n",
      "Processing index: 45 Set: 10 : kokkola\n",
      "Processing index: 46 Set: 10 : tambura\n",
      "Processing index: 47 Set: 10 : mount gambier\n",
      "Processing index: 48 Set: 10 : sinnamary\n",
      "Processing index: 49 Set: 10 : mwense\n",
      "Processing index: 50 Set: 10 : sao joao da barra\n",
      "Processing index: 0 Set: 11 : hobyo\n",
      "Processing index: 1 Set: 11 : biak\n",
      "Processing index: 2 Set: 11 : zhuhai\n",
      "Processing index: 3 Set: 11 : nueve de julio\n",
      "Processing index: 4 Set: 11 : umm kaddadah\n",
      "Processing index: 5 Set: 11 : tvoroyri\n",
      "Processing index: 6 Set: 11 : kayan\n",
      "Processing index: 7 Set: 11 : finnsnes\n",
      "Processing index: 8 Set: 11 : matanzas\n",
      "Processing index: 9 Set: 11 : fortuna\n",
      "Processing index: 10 Set: 11 : providencia\n",
      "Processing index: 11 Set: 11 : dingle\n",
      "Processing index: 12 Set: 11 : nadym\n",
      "Processing index: 13 Set: 11 : brignoles\n",
      "Processing index: 14 Set: 11 : sergeyevka\n",
      "Processing index: 15 Set: 11 : mawlaik\n",
      "Processing index: 16 Set: 11 : serenje\n",
      "Processing index: 17 Set: 11 : erenhot\n",
      "Processing index: 18 Set: 11 : narimanov\n",
      "Processing index: 19 Set: 11 : richards bay\n",
      "Processing index: 20 Set: 11 : cabatuan\n",
      "Processing index: 21 Set: 11 : sorland\n",
      "Processing index: 22 Set: 11 : timizart\n",
      "Processing index: 23 Set: 11 : samut sakhon\n",
      "Processing index: 24 Set: 11 : tautira\n",
      "Processing index: 25 Set: 11 : bukama\n",
      "Processing index: 26 Set: 11 : abu samrah\n",
      "Processing index: 27 Set: 11 : bafia\n",
      "City not found\n",
      "Processing index: 28 Set: 11 : berlevag\n",
      "Processing index: 29 Set: 11 : anadyr\n",
      "Processing index: 30 Set: 11 : porosozero\n",
      "Processing index: 31 Set: 11 : nemuro\n",
      "Processing index: 32 Set: 11 : miranda\n",
      "Processing index: 33 Set: 11 : noumea\n",
      "Processing index: 34 Set: 11 : the valley\n",
      "Processing index: 35 Set: 11 : vrchlabi\n"
     ]
    }
   ],
   "source": [
    "base_url = \"http://api.openweathermap.org/data/2.5/weather?\"\n",
    "units = \"imperial\"\n",
    "query_url = f\"{base_url}appid={weather_api_key}&units={units}&q=\"\n",
    "\n",
    "\n",
    "# For each city name in cities list\n",
    "for index, city in enumerate(cities, start = 1):\n",
    "    try:\n",
    "        #Get a request from the API\n",
    "        response = requests.get(query_url + city).json()\n",
    "        \n",
    "        #Append data to each corresponding list from the API\n",
    "        city_name_list.append(response[\"name\"])\n",
    "        cloudiness_list.append(response[\"clouds\"][\"all\"])\n",
    "        country_list.append(response[\"sys\"][\"country\"])\n",
    "        date_list.append(response[\"dt\"])\n",
    "        humidity_list.append(response[\"main\"][\"humidity\"])\n",
    "        lat_list.append(response[\"coord\"][\"lat\"])\n",
    "        lng_list.append(response[\"coord\"][\"lon\"])\n",
    "        max_temp_list.append(response['main']['temp_max'])\n",
    "        wind_speed_list.append(response[\"wind\"][\"speed\"])\n",
    "        \n",
    "        #Break up processing in sets of 50 for easier reading of output\n",
    "        #Checks if the ICount is less than 50, if it is, keep incrementing\n",
    "        if iCount > 49:\n",
    "            iCount = 0\n",
    "            setCount += 1\n",
    "        #Once the iCount is above 50, create a new set and continue grouping records by 50 again\n",
    "        else:\n",
    "            iCount += 1\n",
    "            \n",
    "        print(f\"Processing index: {iCount} Set: {setCount} : {city}\") \n",
    "    \n",
    "    #Excepetion error when no city was found when pullling data from the API\n",
    "    except(KeyError, IndexError):\n",
    "        print(\"City not found\")"
   ]
  },
  {
   "cell_type": "markdown",
   "metadata": {},
   "source": [
    "## Convert Raw Data to DataFrame\n",
    "* Save as csv"
   ]
  },
  {
   "cell_type": "code",
   "execution_count": 5,
   "metadata": {},
   "outputs": [
    {
     "data": {
      "text/html": [
       "<div>\n",
       "<style scoped>\n",
       "    .dataframe tbody tr th:only-of-type {\n",
       "        vertical-align: middle;\n",
       "    }\n",
       "\n",
       "    .dataframe tbody tr th {\n",
       "        vertical-align: top;\n",
       "    }\n",
       "\n",
       "    .dataframe thead th {\n",
       "        text-align: right;\n",
       "    }\n",
       "</style>\n",
       "<table border=\"1\" class=\"dataframe\">\n",
       "  <thead>\n",
       "    <tr style=\"text-align: right;\">\n",
       "      <th></th>\n",
       "      <th>City</th>\n",
       "      <th>Cloudiness</th>\n",
       "      <th>Country</th>\n",
       "      <th>Date</th>\n",
       "      <th>Humidity</th>\n",
       "      <th>Lat</th>\n",
       "      <th>Lng</th>\n",
       "      <th>Max Temp</th>\n",
       "      <th>Wind Speed</th>\n",
       "    </tr>\n",
       "  </thead>\n",
       "  <tbody>\n",
       "    <tr>\n",
       "      <th>0</th>\n",
       "      <td>Zaozyornoye</td>\n",
       "      <td>0</td>\n",
       "      <td>UA</td>\n",
       "      <td>1603247396</td>\n",
       "      <td>57</td>\n",
       "      <td>45.16</td>\n",
       "      <td>33.28</td>\n",
       "      <td>51.89</td>\n",
       "      <td>8.52</td>\n",
       "    </tr>\n",
       "    <tr>\n",
       "      <th>1</th>\n",
       "      <td>Ushuaia</td>\n",
       "      <td>40</td>\n",
       "      <td>AR</td>\n",
       "      <td>1603247225</td>\n",
       "      <td>75</td>\n",
       "      <td>-54.80</td>\n",
       "      <td>-68.30</td>\n",
       "      <td>41.00</td>\n",
       "      <td>4.85</td>\n",
       "    </tr>\n",
       "    <tr>\n",
       "      <th>2</th>\n",
       "      <td>Mar del Plata</td>\n",
       "      <td>0</td>\n",
       "      <td>AR</td>\n",
       "      <td>1603247273</td>\n",
       "      <td>87</td>\n",
       "      <td>-38.00</td>\n",
       "      <td>-57.56</td>\n",
       "      <td>52.00</td>\n",
       "      <td>5.82</td>\n",
       "    </tr>\n",
       "    <tr>\n",
       "      <th>3</th>\n",
       "      <td>Barrow</td>\n",
       "      <td>90</td>\n",
       "      <td>US</td>\n",
       "      <td>1603246997</td>\n",
       "      <td>86</td>\n",
       "      <td>71.29</td>\n",
       "      <td>-156.79</td>\n",
       "      <td>28.40</td>\n",
       "      <td>12.75</td>\n",
       "    </tr>\n",
       "    <tr>\n",
       "      <th>4</th>\n",
       "      <td>Rikitea</td>\n",
       "      <td>24</td>\n",
       "      <td>PF</td>\n",
       "      <td>1603247226</td>\n",
       "      <td>75</td>\n",
       "      <td>-23.12</td>\n",
       "      <td>-134.97</td>\n",
       "      <td>74.08</td>\n",
       "      <td>9.31</td>\n",
       "    </tr>\n",
       "  </tbody>\n",
       "</table>\n",
       "</div>"
      ],
      "text/plain": [
       "            City  Cloudiness Country        Date  Humidity    Lat     Lng  \\\n",
       "0    Zaozyornoye           0      UA  1603247396        57  45.16   33.28   \n",
       "1        Ushuaia          40      AR  1603247225        75 -54.80  -68.30   \n",
       "2  Mar del Plata           0      AR  1603247273        87 -38.00  -57.56   \n",
       "3         Barrow          90      US  1603246997        86  71.29 -156.79   \n",
       "4        Rikitea          24      PF  1603247226        75 -23.12 -134.97   \n",
       "\n",
       "   Max Temp  Wind Speed  \n",
       "0     51.89        8.52  \n",
       "1     41.00        4.85  \n",
       "2     52.00        5.82  \n",
       "3     28.40       12.75  \n",
       "4     74.08        9.31  "
      ]
     },
     "execution_count": 5,
     "metadata": {},
     "output_type": "execute_result"
    }
   ],
   "source": [
    "#Convert data appended to lists, into a single dataframe for easier manipulation\n",
    "weather_df = pd.DataFrame({ \n",
    "                \"City\" : city_name_list,\n",
    "                \"Cloudiness\" : cloudiness_list,\n",
    "                \"Country\" : country_list,\n",
    "                \"Date\" : date_list,\n",
    "                \"Humidity\" : humidity_list,\n",
    "                \"Lat\" : lat_list,\n",
    "                \"Lng\" : lng_list,\n",
    "                \"Max Temp\" : max_temp_list,\n",
    "                \"Wind Speed\" : wind_speed_list\n",
    "})\n",
    "\n",
    "weather_df.head()\n",
    "\n",
    "#Come back later and re-format the \"Date\" Column"
   ]
  },
  {
   "cell_type": "code",
   "execution_count": 6,
   "metadata": {},
   "outputs": [],
   "source": [
    "#Save the new dataframe into a csv file\n",
    "weather_df.to_csv(output_data_file, index = False)"
   ]
  },
  {
   "cell_type": "markdown",
   "metadata": {},
   "source": [
    "## Plotting the Data\n",
    "* Use proper labeling of the plots using plot titles (including date of analysis) and axes labels.\n",
    "* Save the plotted figures as .pngs."
   ]
  },
  {
   "cell_type": "markdown",
   "metadata": {},
   "source": [
    "### Latitude vs. Temperature Plot"
   ]
  },
  {
   "cell_type": "code",
   "execution_count": 7,
   "metadata": {
    "scrolled": true
   },
   "outputs": [
    {
     "data": {
      "image/png": "[encoded data removed]",
      "text/plain": [
       "<Figure size 432x288 with 1 Axes>"
      ]
     },
     "metadata": {
      "needs_background": "light"
     },
     "output_type": "display_data"
    }
   ],
   "source": [
    "#Create a scatter plot, comparing Lat(x_axis) and Max Temp (y_axis)\n",
    "plt.scatter(weather_df[\"Lat\"], weather_df[\"Max Temp\"], facecolor = \"red\", edgecolor = \"black\")\n",
    "\n",
    "plt.savefig(\"Images/City_Latitude_VS_Temperature.png\")"
   ]
  },
  {
   "cell_type": "markdown",
   "metadata": {},
   "source": [
    "### Latitude vs. Humidity Plot"
   ]
  },
  {
   "cell_type": "code",
   "execution_count": 8,
   "metadata": {},
   "outputs": [
    {
     "data": {
      "image/png": "[encoded data removed]",
      "text/plain": [
       "<Figure size 432x288 with 1 Axes>"
      ]
     },
     "metadata": {
      "needs_background": "light"
     },
     "output_type": "display_data"
    }
   ],
   "source": [
    "#Create a scatter plot, comparing Lat(x_axis) and Humidity (y_axis)\n",
    "plt.scatter(weather_df[\"Lat\"], weather_df[\"Humidity\"], facecolor = \"blue\", edgecolor = \"black\")\n",
    "\n",
    "plt.savefig(\"Images/City_Latitude_VS_Humidity.png\")"
   ]
  },
  {
   "cell_type": "markdown",
   "metadata": {},
   "source": [
    "### Latitude vs. Cloudiness Plot"
   ]
  },
  {
   "cell_type": "code",
   "execution_count": 9,
   "metadata": {},
   "outputs": [
    {
     "data": {
      "image/png": "[encoded data removed]",
      "text/plain": [
       "<Figure size 432x288 with 1 Axes>"
      ]
     },
     "metadata": {
      "needs_background": "light"
     },
     "output_type": "display_data"
    }
   ],
   "source": [
    "#Create a scatter plot, comparing Lat(x_axis) and Cloudiness (y_axis)\n",
    "plt.scatter(weather_df[\"Lat\"], weather_df[\"Cloudiness\"], facecolor = \"cyan\", edgecolor = \"black\")\n",
    "\n",
    "plt.savefig(\"Images/City_Latitude_VS_Cloudiness.png\")"
   ]
  },
  {
   "cell_type": "markdown",
   "metadata": {},
   "source": [
    "### Latitude vs. Wind Speed Plot"
   ]
  },
  {
   "cell_type": "code",
   "execution_count": 10,
   "metadata": {},
   "outputs": [
    {
     "data": {
      "image/png": "[encoded data removed]",
      "text/plain": [
       "<Figure size 432x288 with 1 Axes>"
      ]
     },
     "metadata": {
      "needs_background": "light"
     },
     "output_type": "display_data"
    }
   ],
   "source": [
    "#Create a scatter plot, comparing Lat(x_axis) and Wind Speed (y_axis)\n",
    "plt.scatter(weather_df[\"Lat\"], weather_df[\"Wind Speed\"], facecolor = \"green\", edgecolor = \"black\")\n",
    "\n",
    "plt.savefig(\"Images/City_Latitude_VS_WindSpeed.png\")"
   ]
  },
  {
   "cell_type": "markdown",
   "metadata": {},
   "source": [
    "## Linear Regression"
   ]
  },
  {
   "cell_type": "markdown",
   "metadata": {},
   "source": [
    "### Write linear regression plot function (optional)"
   ]
  },
  {
   "cell_type": "code",
   "execution_count": 11,
   "metadata": {},
   "outputs": [
    {
     "name": "stdout",
     "output_type": "stream",
     "text": [
      "          City  Cloudiness Country        Date  Humidity    Lat     Lng  \\\n",
      "0  Zaozyornoye           0      UA  1603247396        57  45.16   33.28   \n",
      "3       Barrow          90      US  1603246997        86  71.29 -156.79   \n",
      "5    Thinadhoo         100      MV  1603247216        81   0.53   72.93   \n",
      "6      Qaanaaq          37      GL  1603246991        82  77.48  -69.36   \n",
      "7    Hong Kong          55      HK  1603247199        67  22.29  114.16   \n",
      "\n",
      "   Max Temp  Wind Speed  \n",
      "0     51.89        8.52  \n",
      "3     28.40       12.75  \n",
      "5     81.81       12.77  \n",
      "6     20.41        6.17  \n",
      "7     77.00        3.00  \n",
      "            City  Cloudiness Country        Date  Humidity    Lat     Lng  \\\n",
      "1        Ushuaia          40      AR  1603247225        75 -54.80  -68.30   \n",
      "2  Mar del Plata           0      AR  1603247273        87 -38.00  -57.56   \n",
      "4        Rikitea          24      PF  1603247226        75 -23.12 -134.97   \n",
      "8   Punta Arenas          75      CL  1603246980        75 -53.15  -70.92   \n",
      "9   Puerto Ayora          94      EC  1603247250        92  -0.74  -90.35   \n",
      "\n",
      "   Max Temp  Wind Speed  \n",
      "1     41.00        4.85  \n",
      "2     52.00        5.82  \n",
      "4     74.08        9.31  \n",
      "8     41.00        5.82  \n",
      "9     69.01        8.01  \n"
     ]
    }
   ],
   "source": [
    "#Split the weather_df into two dataframes \n",
    "#northern and southern hemisphere\n",
    "northernHemisphere = weather_df.loc[weather_df[\"Lat\"] >= 0]\n",
    "southernHemisphere = weather_df.loc[weather_df[\"Lat\"] < 0]\n",
    "\n",
    "print(northernHemisphere.head())\n",
    "print(southernHemisphere.head())"
   ]
  },
  {
   "cell_type": "code",
   "execution_count": 44,
   "metadata": {},
   "outputs": [],
   "source": [
    "#Define LinearAgression function for use in later scatter plots\n",
    "\n",
    "#Function to print out line graph, representing the Linear Regression\n",
    "def plotLineGraph(x,y,equation):\n",
    "    plt.plot(x,y,\"r\")\n",
    "    plt.annotate(equation,(0,20),fontsize = 20, color = \"red\")\n",
    "\n",
    "#Function to print out the scatter plot of the data being compared\n",
    "def plotScatterGraph(x,y):\n",
    "    plt.scatter(x,y)\n",
    "\n",
    "#Function to calculate Linear Regression and call the plot functions to ouput the graphs\n",
    "def linearAgression(x,y):\n",
    "    print(f\"r-squared is : {round(st.pearsonr(x, y)[0],2)}\")\n",
    "    (mslope, bintercept, rvalue, pvalue, stderr) = st.linregress(x, y)\n",
    "    linEquation = \"y = \" + str(round(mslope,2)) + \"x + \" + str(round(bintercept,2))\n",
    "    regressValue = (x * mslope) + bintercept\n",
    "    plotScatterGraph(x,y)\n",
    "    plotLineGraph(x, regressValue, linEquation)\n",
    "    return linEquation"
   ]
  },
  {
   "cell_type": "markdown",
   "metadata": {},
   "source": [
    "###  Northern Hemisphere - Max Temp vs. Latitude Linear Regression"
   ]
  },
  {
   "cell_type": "code",
   "execution_count": 46,
   "metadata": {},
   "outputs": [
    {
     "name": "stdout",
     "output_type": "stream",
     "text": [
      "r-squared is : -0.9\n",
      "y = -0.92x + 91.3\n"
     ]
    },
    {
     "data": {
      "text/plain": [
       "Text(0, 0.5, 'Max Temp')"
      ]
     },
     "execution_count": 46,
     "metadata": {},
     "output_type": "execute_result"
    },
    {
     "data": {
      "image/png": "[encoded data removed]",
      "text/plain": [
       "<Figure size 432x288 with 1 Axes>"
      ]
     },
     "metadata": {
      "needs_background": "light"
     },
     "output_type": "display_data"
    }
   ],
   "source": [
    "#Create A scatter plot, comparing the Max Temp and Latitude for the Northern Hemisphere\n",
    "#Call Function to calculate the Linear Agression and output the r-squared value and the graphs\n",
    "equation = linearAgression(northernHemisphere[\"Lat\"], northernHemisphere[\"Max Temp\"])\n",
    "\n",
    "#Format the Graph\n",
    "plt.title(\"Northern_Hemisphere-Max_Temp_VS_Latitude-LinearRegression\")\n",
    "plt.xlabel(\"Latitude\")\n",
    "plt.ylabel(\"Max Temp\")\n",
    "\n",
    "#Save the plot to a png image in the Ima\n",
    "#plt.savefig(\"Images/Northern_Hemisphere-Max_Temp_VS_Latitude-LinearRegression\")"
   ]
  },
  {
   "cell_type": "markdown",
   "metadata": {},
   "source": [
    "###  Southern Hemisphere - Max Temp vs. Latitude Linear Regression"
   ]
  },
  {
   "cell_type": "code",
   "execution_count": null,
   "metadata": {},
   "outputs": [],
   "source": []
  },
  {
   "cell_type": "markdown",
   "metadata": {},
   "source": [
    "###  Northern Hemisphere - Humidity (%) vs. Latitude Linear Regression"
   ]
  },
  {
   "cell_type": "code",
   "execution_count": null,
   "metadata": {},
   "outputs": [],
   "source": []
  },
  {
   "cell_type": "markdown",
   "metadata": {},
   "source": [
    "###  Southern Hemisphere - Humidity (%) vs. Latitude Linear Regression"
   ]
  },
  {
   "cell_type": "code",
   "execution_count": null,
   "metadata": {},
   "outputs": [],
   "source": []
  },
  {
   "cell_type": "markdown",
   "metadata": {},
   "source": [
    "###  Northern Hemisphere - Cloudiness (%) vs. Latitude Linear Regression"
   ]
  },
  {
   "cell_type": "code",
   "execution_count": null,
   "metadata": {},
   "outputs": [],
   "source": []
  },
  {
   "cell_type": "markdown",
   "metadata": {},
   "source": [
    "###  Southern Hemisphere - Cloudiness (%) vs. Latitude Linear Regression"
   ]
  },
  {
   "cell_type": "code",
   "execution_count": null,
   "metadata": {},
   "outputs": [],
   "source": []
  },
  {
   "cell_type": "markdown",
   "metadata": {},
   "source": [
    "###  Northern Hemisphere - Wind Speed (mph) vs. Latitude Linear Regression"
   ]
  },
  {
   "cell_type": "code",
   "execution_count": null,
   "metadata": {},
   "outputs": [],
   "source": []
  },
  {
   "cell_type": "markdown",
   "metadata": {},
   "source": [
    "###  Southern Hemisphere - Wind Speed (mph) vs. Latitude Linear Regression"
   ]
  },
  {
   "cell_type": "code",
   "execution_count": null,
   "metadata": {},
   "outputs": [],
   "source": []
  },
  {
   "cell_type": "code",
   "execution_count": null,
   "metadata": {},
   "outputs": [],
   "source": []
  }
 ],
 "metadata": {
  "anaconda-cloud": {},
  "kernel_info": {
   "name": "python3"
  },
  "kernelspec": {
   "display_name": "Python 3",
   "language": "python",
   "name": "python3"
  },
  "language_info": {
   "codemirror_mode": {
    "name": "ipython",
    "version": 3
   },
   "file_extension": ".py",
   "mimetype": "text/x-python",
   "name": "python",
   "nbconvert_exporter": "python",
   "pygments_lexer": "ipython3",
   "version": "3.8.3"
  },
  "latex_envs": {
   "LaTeX_envs_menu_present": true,
   "autoclose": false,
   "autocomplete": true,
   "bibliofile": "biblio.bib",
   "cite_by": "apalike",
   "current_citInitial": 1,
   "eqLabelWithNumbers": true,
   "eqNumInitial": 1,
   "hotkeys": {
    "equation": "Ctrl-E",
    "itemize": "Ctrl-I"
   },
   "labels_anchors": false,
   "latex_user_defs": false,
   "report_style_numbering": false,
   "user_envs_cfg": false
  },
  "nteract": {
   "version": "0.12.3"
  },
  "toc": {
   "base_numbering": 1,
   "nav_menu": {},
   "number_sections": true,
   "sideBar": true,
   "skip_h1_title": false,
   "title_cell": "Table of Contents",
   "title_sidebar": "Contents",
   "toc_cell": false,
   "toc_position": {},
   "toc_section_display": true,
   "toc_window_display": false
  },
  "varInspector": {
   "cols": {
    "lenName": 16,
    "lenType": 16,
    "lenVar": 40
   },
   "kernels_config": {
    "python": {
     "delete_cmd_postfix": "",
     "delete_cmd_prefix": "del ",
     "library": "var_list.py",
     "varRefreshCmd": "print(var_dic_list())"
    },
    "r": {
     "delete_cmd_postfix": ") ",
     "delete_cmd_prefix": "rm(",
     "library": "var_list.r",
     "varRefreshCmd": "cat(var_dic_list()) "
    }
   },
   "types_to_exclude": [
    "module",
    "function",
    "builtin_function_or_method",
    "instance",
    "_Feature"
   ],
   "window_display": false
  }
 },
 "nbformat": 4,
 "nbformat_minor": 2
}
